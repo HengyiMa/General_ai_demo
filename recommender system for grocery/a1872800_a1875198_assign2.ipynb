{
 "cells": [
  {
   "cell_type": "markdown",
   "metadata": {},
   "source": [
    "## Assignment 2"
   ]
  },
  {
   "cell_type": "markdown",
   "metadata": {},
   "source": [
    "### Hengyi Ma(a1875198) Weiyou Liu(a1872800)"
   ]
  },
  {
   "cell_type": "markdown",
   "metadata": {},
   "source": [
    "#### Task 1: Mining  frequent patterns(By Hengyi Ma)"
   ]
  },
  {
   "cell_type": "markdown",
   "metadata": {},
   "source": [
    "##### Step 1: Read the data and have a brief check about the content :"
   ]
  },
  {
   "cell_type": "code",
   "execution_count": 1,
   "metadata": {},
   "outputs": [
    {
     "name": "stdout",
     "output_type": "stream",
     "text": [
      "              BillNo      Quantity         Price    CustomerID          cost\n",
      "count   40000.000000  40000.000000  40000.000000  40000.000000  40000.000000\n",
      "mean   540254.879225      3.487700      3.732165  15577.606525     11.097411\n",
      "std      2380.444952      2.611766      5.711630   1730.347123     13.298301\n",
      "min    536365.000000      1.000000      0.100000  12347.000000      0.140000\n",
      "25%    538093.000000      1.000000      1.650000  14224.000000      3.300000\n",
      "50%    540373.000000      2.000000      2.950000  15570.000000      7.950000\n",
      "75%    542360.000000      6.000000      4.650000  17220.000000     15.800000\n",
      "max    544398.000000     10.000000    295.000000  18283.000000    527.700000\n",
      "   BillNo                             Itemname  Quantity            Date  \\\n",
      "0  536365  KNITTED UNION FLAG HOT WATER BOTTLE         6  1/12/2010 8:26   \n",
      "1  536365    GLASS STAR FROSTED T-LIGHT HOLDER         6  1/12/2010 8:26   \n",
      "2  536365   WHITE HANGING HEART T-LIGHT HOLDER         6  1/12/2010 8:26   \n",
      "3  536365       RED WOOLLY HOTTIE WHITE HEART.         6  1/12/2010 8:26   \n",
      "4  536365         SET 7 BABUSHKA NESTING BOXES         2  1/12/2010 8:26   \n",
      "\n",
      "   Price  CustomerID   cost  \n",
      "0   3.39       17850  20.34  \n",
      "1   4.25       17850  25.50  \n",
      "2   2.55       17850  15.30  \n",
      "3   3.39       17850  20.34  \n",
      "4   7.65       17850  15.30  \n"
     ]
    }
   ],
   "source": [
    "import pandas as pd \n",
    "data=pd.read_csv(\"basket_data_by_date_train.csv\")\n",
    "print(data.describe())\n",
    "print(data.head())"
   ]
  },
  {
   "cell_type": "markdown",
   "metadata": {},
   "source": [
    "Directly view the content of the data, this will help us know the part we should use during the following tasks.  \n",
    "We can find some useful information, like we have itemname for the name of the commodity the customers bought, quantity and price could also be \n",
    "considered as important features which will directly influence the frequencey items and sales of the store.  \n",
    "Each unique customerid means a unique customer(user) that we should consider during the designing the model."
   ]
  },
  {
   "cell_type": "code",
   "execution_count": 32,
   "metadata": {},
   "outputs": [
    {
     "data": {
      "text/html": [
       "<div>\n",
       "<style scoped>\n",
       "    .dataframe tbody tr th:only-of-type {\n",
       "        vertical-align: middle;\n",
       "    }\n",
       "\n",
       "    .dataframe tbody tr th {\n",
       "        vertical-align: top;\n",
       "    }\n",
       "\n",
       "    .dataframe thead th {\n",
       "        text-align: right;\n",
       "    }\n",
       "</style>\n",
       "<table border=\"1\" class=\"dataframe\">\n",
       "  <thead>\n",
       "    <tr style=\"text-align: right;\">\n",
       "      <th></th>\n",
       "      <th>BillNo</th>\n",
       "      <th>Itemname</th>\n",
       "      <th>Quantity</th>\n",
       "      <th>Date</th>\n",
       "      <th>Price</th>\n",
       "      <th>CustomerID</th>\n",
       "      <th>cost</th>\n",
       "    </tr>\n",
       "  </thead>\n",
       "  <tbody>\n",
       "    <tr>\n",
       "      <th>0</th>\n",
       "      <td>536365</td>\n",
       "      <td>KNITTED UNION FLAG HOT WATER BOTTLE</td>\n",
       "      <td>6</td>\n",
       "      <td>1/12/2010 8:26</td>\n",
       "      <td>3.39</td>\n",
       "      <td>17850</td>\n",
       "      <td>20.34</td>\n",
       "    </tr>\n",
       "    <tr>\n",
       "      <th>1</th>\n",
       "      <td>536365</td>\n",
       "      <td>GLASS STAR FROSTED T-LIGHT HOLDER</td>\n",
       "      <td>6</td>\n",
       "      <td>1/12/2010 8:26</td>\n",
       "      <td>4.25</td>\n",
       "      <td>17850</td>\n",
       "      <td>25.50</td>\n",
       "    </tr>\n",
       "    <tr>\n",
       "      <th>2</th>\n",
       "      <td>536365</td>\n",
       "      <td>WHITE HANGING HEART T-LIGHT HOLDER</td>\n",
       "      <td>6</td>\n",
       "      <td>1/12/2010 8:26</td>\n",
       "      <td>2.55</td>\n",
       "      <td>17850</td>\n",
       "      <td>15.30</td>\n",
       "    </tr>\n",
       "    <tr>\n",
       "      <th>3</th>\n",
       "      <td>536365</td>\n",
       "      <td>RED WOOLLY HOTTIE WHITE HEART.</td>\n",
       "      <td>6</td>\n",
       "      <td>1/12/2010 8:26</td>\n",
       "      <td>3.39</td>\n",
       "      <td>17850</td>\n",
       "      <td>20.34</td>\n",
       "    </tr>\n",
       "    <tr>\n",
       "      <th>4</th>\n",
       "      <td>536365</td>\n",
       "      <td>SET 7 BABUSHKA NESTING BOXES</td>\n",
       "      <td>2</td>\n",
       "      <td>1/12/2010 8:26</td>\n",
       "      <td>7.65</td>\n",
       "      <td>17850</td>\n",
       "      <td>15.30</td>\n",
       "    </tr>\n",
       "    <tr>\n",
       "      <th>...</th>\n",
       "      <td>...</td>\n",
       "      <td>...</td>\n",
       "      <td>...</td>\n",
       "      <td>...</td>\n",
       "      <td>...</td>\n",
       "      <td>...</td>\n",
       "      <td>...</td>\n",
       "    </tr>\n",
       "    <tr>\n",
       "      <th>39995</th>\n",
       "      <td>544398</td>\n",
       "      <td>GREEN METAL SWINGING BUNNY</td>\n",
       "      <td>4</td>\n",
       "      <td>18/02/2011 12:27</td>\n",
       "      <td>0.85</td>\n",
       "      <td>15311</td>\n",
       "      <td>3.40</td>\n",
       "    </tr>\n",
       "    <tr>\n",
       "      <th>39996</th>\n",
       "      <td>544398</td>\n",
       "      <td>PINK 3 PIECE POLKADOT CUTLERY SET</td>\n",
       "      <td>2</td>\n",
       "      <td>18/02/2011 12:27</td>\n",
       "      <td>4.15</td>\n",
       "      <td>15311</td>\n",
       "      <td>8.30</td>\n",
       "    </tr>\n",
       "    <tr>\n",
       "      <th>39997</th>\n",
       "      <td>544398</td>\n",
       "      <td>GLITTER HANGING BUTTERFLY STRING</td>\n",
       "      <td>4</td>\n",
       "      <td>18/02/2011 12:27</td>\n",
       "      <td>2.10</td>\n",
       "      <td>15311</td>\n",
       "      <td>8.40</td>\n",
       "    </tr>\n",
       "    <tr>\n",
       "      <th>39998</th>\n",
       "      <td>544398</td>\n",
       "      <td>WHITE SPOT RED CERAMIC DRAWER KNOB</td>\n",
       "      <td>6</td>\n",
       "      <td>18/02/2011 12:27</td>\n",
       "      <td>1.25</td>\n",
       "      <td>15311</td>\n",
       "      <td>7.50</td>\n",
       "    </tr>\n",
       "    <tr>\n",
       "      <th>39999</th>\n",
       "      <td>544398</td>\n",
       "      <td>TEA TIME DES TEA COSY</td>\n",
       "      <td>4</td>\n",
       "      <td>18/02/2011 12:27</td>\n",
       "      <td>2.55</td>\n",
       "      <td>15311</td>\n",
       "      <td>10.20</td>\n",
       "    </tr>\n",
       "  </tbody>\n",
       "</table>\n",
       "<p>40000 rows × 7 columns</p>\n",
       "</div>"
      ],
      "text/plain": [
       "       BillNo                             Itemname  Quantity  \\\n",
       "0      536365  KNITTED UNION FLAG HOT WATER BOTTLE         6   \n",
       "1      536365    GLASS STAR FROSTED T-LIGHT HOLDER         6   \n",
       "2      536365   WHITE HANGING HEART T-LIGHT HOLDER         6   \n",
       "3      536365       RED WOOLLY HOTTIE WHITE HEART.         6   \n",
       "4      536365         SET 7 BABUSHKA NESTING BOXES         2   \n",
       "...       ...                                  ...       ...   \n",
       "39995  544398           GREEN METAL SWINGING BUNNY         4   \n",
       "39996  544398    PINK 3 PIECE POLKADOT CUTLERY SET         2   \n",
       "39997  544398     GLITTER HANGING BUTTERFLY STRING         4   \n",
       "39998  544398   WHITE SPOT RED CERAMIC DRAWER KNOB         6   \n",
       "39999  544398                TEA TIME DES TEA COSY         4   \n",
       "\n",
       "                   Date  Price  CustomerID   cost  \n",
       "0        1/12/2010 8:26   3.39       17850  20.34  \n",
       "1        1/12/2010 8:26   4.25       17850  25.50  \n",
       "2        1/12/2010 8:26   2.55       17850  15.30  \n",
       "3        1/12/2010 8:26   3.39       17850  20.34  \n",
       "4        1/12/2010 8:26   7.65       17850  15.30  \n",
       "...                 ...    ...         ...    ...  \n",
       "39995  18/02/2011 12:27   0.85       15311   3.40  \n",
       "39996  18/02/2011 12:27   4.15       15311   8.30  \n",
       "39997  18/02/2011 12:27   2.10       15311   8.40  \n",
       "39998  18/02/2011 12:27   1.25       15311   7.50  \n",
       "39999  18/02/2011 12:27   2.55       15311  10.20  \n",
       "\n",
       "[40000 rows x 7 columns]"
      ]
     },
     "execution_count": 32,
     "metadata": {},
     "output_type": "execute_result"
    }
   ],
   "source": [
    "data"
   ]
  },
  {
   "cell_type": "markdown",
   "metadata": {},
   "source": [
    "##### Step 2: Visual data analysis"
   ]
  },
  {
   "cell_type": "markdown",
   "metadata": {},
   "source": [
    "Then we will use visualization techniques to see the data, this can give us a general understanding of the range and distribution of the data, which can be used as a reference for subsequent model design and analysis results.  \n",
    "It is easy to think of sorting products directly according to quantity, which can directly obtain the information of the most frequently purchased products. We show the top ten products"
   ]
  },
  {
   "cell_type": "code",
   "execution_count": 2,
   "metadata": {},
   "outputs": [
    {
     "data": {
      "image/png": "[encoded data removed]",
      "text/plain": [
       "<Figure size 800x500 with 1 Axes>"
      ]
     },
     "metadata": {},
     "output_type": "display_data"
    }
   ],
   "source": [
    "import matplotlib.pyplot as plt\n",
    "total_quantity = data.groupby('Itemname')['Quantity'].sum()\n",
    "top_items = total_quantity.sort_values(ascending=False).head(10)\n",
    "plt.rcParams.update({'font.size': 5})\n",
    "plt.figure(figsize=(8, 5))\n",
    "top_items.plot(kind='bar', color='skyblue')\n",
    "plt.xlabel('Item Name')\n",
    "plt.ylabel('Total Quantity')\n",
    "plt.title('Top 10 Items by Total Quantity')\n",
    "plt.xticks(rotation=90)\n",
    "plt.show()"
   ]
  },
  {
   "cell_type": "markdown",
   "metadata": {},
   "source": [
    "Sorting items based on purchase price is also a good idea to help stores determine the importance of items based on revenue. We show the top ten products"
   ]
  },
  {
   "cell_type": "code",
   "execution_count": 46,
   "metadata": {},
   "outputs": [
    {
     "data": {
      "image/png": "[encoded data removed]",
      "text/plain": [
       "<Figure size 800x500 with 1 Axes>"
      ]
     },
     "metadata": {},
     "output_type": "display_data"
    }
   ],
   "source": [
    "total_price = data.groupby('Itemname')['cost'].sum()\n",
    "top_items = total_price.sort_values(ascending=False).head(10)\n",
    "plt.rcParams.update({'font.size': 5})\n",
    "plt.figure(figsize=(8, 5))\n",
    "top_items.plot(kind='bar', color='skyblue')\n",
    "plt.xlabel('Item Name')\n",
    "plt.ylabel('Total cost')\n",
    "plt.title('Top 10 Items by Total cost')\n",
    "plt.xticks(rotation=90)\n",
    "plt.show()"
   ]
  },
  {
   "cell_type": "markdown",
   "metadata": {},
   "source": [
    "Viewing the total cost distribution of each customer can help determine how most people spend in the store and determine the store's consumer groups. It can be seen that most customers spend between 0-1000\n",
    " dollars."
   ]
  },
  {
   "cell_type": "code",
   "execution_count": 50,
   "metadata": {},
   "outputs": [
    {
     "data": {
      "image/png": "[encoded data removed]",
      "text/plain": [
       "<Figure size 800x500 with 1 Axes>"
      ]
     },
     "metadata": {},
     "output_type": "display_data"
    }
   ],
   "source": [
    "plt.figure(figsize=(8, 5))\n",
    "plt.rcParams.update({'font.size': 10})\n",
    "total_cost = data.groupby('CustomerID')['cost'].sum()\n",
    "total_cost.hist(bins=30, color='skyblue')\n",
    "plt.xlabel('Total Cost')\n",
    "plt.ylabel('Number of Customers')\n",
    "plt.title('Distribution of Total Cost per Customer')\n",
    "plt.show()"
   ]
  },
  {
   "cell_type": "markdown",
   "metadata": {},
   "source": [
    "##### Step 3: Pre-process the data:"
   ]
  },
  {
   "cell_type": "markdown",
   "metadata": {},
   "source": [
    "This part is used to preprocess data before model training, mainly including data inspection and processing of data structure."
   ]
  },
  {
   "cell_type": "markdown",
   "metadata": {},
   "source": [
    "First, we check whether there are missing values in the training set. If there are, we will delete the row directly. However, the check results show that there are no missing values in the data and can be used directly."
   ]
  },
  {
   "cell_type": "code",
   "execution_count": 52,
   "metadata": {},
   "outputs": [
    {
     "data": {
      "text/plain": [
       "0"
      ]
     },
     "execution_count": 52,
     "metadata": {},
     "output_type": "execute_result"
    }
   ],
   "source": [
    "missing_values=data.isnull().sum().sum()\n",
    "missing_values"
   ]
  },
  {
   "cell_type": "markdown",
   "metadata": {},
   "source": [
    "In order to facilitate subsequent data processing, we reconstruct the data based on product name and customer ID. Since we need to explore the correlation between items and build rules, we pay more attention to whether the item appears rather than the quantity of the item. Therefore, the data of the same customer ID is merged and the product name list is expanded. The values ​​in it are only written as true or false according to the purchase situation."
   ]
  },
  {
   "cell_type": "code",
   "execution_count": 3,
   "metadata": {},
   "outputs": [
    {
     "data": {
      "text/html": [
       "<div>\n",
       "<style scoped>\n",
       "    .dataframe tbody tr th:only-of-type {\n",
       "        vertical-align: middle;\n",
       "    }\n",
       "\n",
       "    .dataframe tbody tr th {\n",
       "        vertical-align: top;\n",
       "    }\n",
       "\n",
       "    .dataframe thead th {\n",
       "        text-align: right;\n",
       "    }\n",
       "</style>\n",
       "<table border=\"1\" class=\"dataframe\">\n",
       "  <thead>\n",
       "    <tr style=\"text-align: right;\">\n",
       "      <th></th>\n",
       "      <th>10 COLOUR SPACEBOY PEN</th>\n",
       "      <th>12 COLOURED PARTY BALLOONS</th>\n",
       "      <th>12 DAISY PEGS IN WOOD BOX</th>\n",
       "      <th>12 EGG HOUSE PAINTED WOOD</th>\n",
       "      <th>12 IVORY ROSE PEG PLACE SETTINGS</th>\n",
       "      <th>12 MESSAGE CARDS WITH ENVELOPES</th>\n",
       "      <th>12 PENCIL SMALL TUBE WOODLAND</th>\n",
       "      <th>12 PENCILS SMALL TUBE RED RETROSPOT</th>\n",
       "      <th>12 PENCILS SMALL TUBE SKULL</th>\n",
       "      <th>12 PENCILS TALL TUBE POSY</th>\n",
       "      <th>...</th>\n",
       "      <th>YULETIDE IMAGES S/6 PAPER BOXES</th>\n",
       "      <th>ZINC FINISH 15CM PLANTER POTS</th>\n",
       "      <th>ZINC HEART LATTICE 2 WALL PLANTER</th>\n",
       "      <th>ZINC HEART LATTICE CHARGER LARGE</th>\n",
       "      <th>ZINC HEART LATTICE CHARGER SMALL</th>\n",
       "      <th>ZINC HEART LATTICE T-LIGHT HOLDER</th>\n",
       "      <th>ZINC HEART LATTICE TRAY OVAL</th>\n",
       "      <th>ZINC METAL HEART DECORATION</th>\n",
       "      <th>ZINC TOP  2 DOOR WOODEN SHELF</th>\n",
       "      <th>ZINC WILLIE WINKIE  CANDLE STICK</th>\n",
       "    </tr>\n",
       "  </thead>\n",
       "  <tbody>\n",
       "    <tr>\n",
       "      <th>0</th>\n",
       "      <td>False</td>\n",
       "      <td>False</td>\n",
       "      <td>False</td>\n",
       "      <td>False</td>\n",
       "      <td>False</td>\n",
       "      <td>False</td>\n",
       "      <td>False</td>\n",
       "      <td>False</td>\n",
       "      <td>False</td>\n",
       "      <td>False</td>\n",
       "      <td>...</td>\n",
       "      <td>False</td>\n",
       "      <td>False</td>\n",
       "      <td>False</td>\n",
       "      <td>False</td>\n",
       "      <td>False</td>\n",
       "      <td>False</td>\n",
       "      <td>False</td>\n",
       "      <td>False</td>\n",
       "      <td>False</td>\n",
       "      <td>False</td>\n",
       "    </tr>\n",
       "    <tr>\n",
       "      <th>1</th>\n",
       "      <td>False</td>\n",
       "      <td>False</td>\n",
       "      <td>False</td>\n",
       "      <td>False</td>\n",
       "      <td>False</td>\n",
       "      <td>False</td>\n",
       "      <td>False</td>\n",
       "      <td>False</td>\n",
       "      <td>False</td>\n",
       "      <td>False</td>\n",
       "      <td>...</td>\n",
       "      <td>False</td>\n",
       "      <td>False</td>\n",
       "      <td>False</td>\n",
       "      <td>False</td>\n",
       "      <td>False</td>\n",
       "      <td>False</td>\n",
       "      <td>False</td>\n",
       "      <td>False</td>\n",
       "      <td>False</td>\n",
       "      <td>False</td>\n",
       "    </tr>\n",
       "    <tr>\n",
       "      <th>2</th>\n",
       "      <td>False</td>\n",
       "      <td>False</td>\n",
       "      <td>False</td>\n",
       "      <td>False</td>\n",
       "      <td>False</td>\n",
       "      <td>False</td>\n",
       "      <td>False</td>\n",
       "      <td>False</td>\n",
       "      <td>False</td>\n",
       "      <td>False</td>\n",
       "      <td>...</td>\n",
       "      <td>False</td>\n",
       "      <td>False</td>\n",
       "      <td>False</td>\n",
       "      <td>False</td>\n",
       "      <td>False</td>\n",
       "      <td>False</td>\n",
       "      <td>False</td>\n",
       "      <td>False</td>\n",
       "      <td>False</td>\n",
       "      <td>False</td>\n",
       "    </tr>\n",
       "    <tr>\n",
       "      <th>3</th>\n",
       "      <td>False</td>\n",
       "      <td>False</td>\n",
       "      <td>False</td>\n",
       "      <td>False</td>\n",
       "      <td>False</td>\n",
       "      <td>False</td>\n",
       "      <td>False</td>\n",
       "      <td>False</td>\n",
       "      <td>False</td>\n",
       "      <td>False</td>\n",
       "      <td>...</td>\n",
       "      <td>False</td>\n",
       "      <td>False</td>\n",
       "      <td>False</td>\n",
       "      <td>False</td>\n",
       "      <td>False</td>\n",
       "      <td>False</td>\n",
       "      <td>False</td>\n",
       "      <td>False</td>\n",
       "      <td>False</td>\n",
       "      <td>False</td>\n",
       "    </tr>\n",
       "    <tr>\n",
       "      <th>4</th>\n",
       "      <td>False</td>\n",
       "      <td>False</td>\n",
       "      <td>False</td>\n",
       "      <td>False</td>\n",
       "      <td>False</td>\n",
       "      <td>False</td>\n",
       "      <td>False</td>\n",
       "      <td>False</td>\n",
       "      <td>False</td>\n",
       "      <td>False</td>\n",
       "      <td>...</td>\n",
       "      <td>False</td>\n",
       "      <td>False</td>\n",
       "      <td>False</td>\n",
       "      <td>False</td>\n",
       "      <td>False</td>\n",
       "      <td>False</td>\n",
       "      <td>False</td>\n",
       "      <td>False</td>\n",
       "      <td>False</td>\n",
       "      <td>False</td>\n",
       "    </tr>\n",
       "    <tr>\n",
       "      <th>...</th>\n",
       "      <td>...</td>\n",
       "      <td>...</td>\n",
       "      <td>...</td>\n",
       "      <td>...</td>\n",
       "      <td>...</td>\n",
       "      <td>...</td>\n",
       "      <td>...</td>\n",
       "      <td>...</td>\n",
       "      <td>...</td>\n",
       "      <td>...</td>\n",
       "      <td>...</td>\n",
       "      <td>...</td>\n",
       "      <td>...</td>\n",
       "      <td>...</td>\n",
       "      <td>...</td>\n",
       "      <td>...</td>\n",
       "      <td>...</td>\n",
       "      <td>...</td>\n",
       "      <td>...</td>\n",
       "      <td>...</td>\n",
       "      <td>...</td>\n",
       "    </tr>\n",
       "    <tr>\n",
       "      <th>2519</th>\n",
       "      <td>False</td>\n",
       "      <td>False</td>\n",
       "      <td>False</td>\n",
       "      <td>False</td>\n",
       "      <td>False</td>\n",
       "      <td>False</td>\n",
       "      <td>False</td>\n",
       "      <td>False</td>\n",
       "      <td>False</td>\n",
       "      <td>False</td>\n",
       "      <td>...</td>\n",
       "      <td>False</td>\n",
       "      <td>False</td>\n",
       "      <td>False</td>\n",
       "      <td>False</td>\n",
       "      <td>False</td>\n",
       "      <td>False</td>\n",
       "      <td>False</td>\n",
       "      <td>False</td>\n",
       "      <td>False</td>\n",
       "      <td>False</td>\n",
       "    </tr>\n",
       "    <tr>\n",
       "      <th>2520</th>\n",
       "      <td>False</td>\n",
       "      <td>False</td>\n",
       "      <td>False</td>\n",
       "      <td>False</td>\n",
       "      <td>False</td>\n",
       "      <td>False</td>\n",
       "      <td>False</td>\n",
       "      <td>False</td>\n",
       "      <td>False</td>\n",
       "      <td>False</td>\n",
       "      <td>...</td>\n",
       "      <td>False</td>\n",
       "      <td>False</td>\n",
       "      <td>False</td>\n",
       "      <td>False</td>\n",
       "      <td>False</td>\n",
       "      <td>False</td>\n",
       "      <td>False</td>\n",
       "      <td>False</td>\n",
       "      <td>False</td>\n",
       "      <td>False</td>\n",
       "    </tr>\n",
       "    <tr>\n",
       "      <th>2521</th>\n",
       "      <td>False</td>\n",
       "      <td>False</td>\n",
       "      <td>False</td>\n",
       "      <td>False</td>\n",
       "      <td>False</td>\n",
       "      <td>False</td>\n",
       "      <td>False</td>\n",
       "      <td>False</td>\n",
       "      <td>False</td>\n",
       "      <td>False</td>\n",
       "      <td>...</td>\n",
       "      <td>False</td>\n",
       "      <td>False</td>\n",
       "      <td>False</td>\n",
       "      <td>False</td>\n",
       "      <td>False</td>\n",
       "      <td>False</td>\n",
       "      <td>False</td>\n",
       "      <td>False</td>\n",
       "      <td>False</td>\n",
       "      <td>False</td>\n",
       "    </tr>\n",
       "    <tr>\n",
       "      <th>2522</th>\n",
       "      <td>False</td>\n",
       "      <td>False</td>\n",
       "      <td>False</td>\n",
       "      <td>False</td>\n",
       "      <td>False</td>\n",
       "      <td>False</td>\n",
       "      <td>False</td>\n",
       "      <td>False</td>\n",
       "      <td>False</td>\n",
       "      <td>False</td>\n",
       "      <td>...</td>\n",
       "      <td>False</td>\n",
       "      <td>False</td>\n",
       "      <td>False</td>\n",
       "      <td>False</td>\n",
       "      <td>False</td>\n",
       "      <td>False</td>\n",
       "      <td>False</td>\n",
       "      <td>False</td>\n",
       "      <td>False</td>\n",
       "      <td>False</td>\n",
       "    </tr>\n",
       "    <tr>\n",
       "      <th>2523</th>\n",
       "      <td>False</td>\n",
       "      <td>False</td>\n",
       "      <td>False</td>\n",
       "      <td>False</td>\n",
       "      <td>False</td>\n",
       "      <td>False</td>\n",
       "      <td>False</td>\n",
       "      <td>False</td>\n",
       "      <td>False</td>\n",
       "      <td>False</td>\n",
       "      <td>...</td>\n",
       "      <td>False</td>\n",
       "      <td>False</td>\n",
       "      <td>False</td>\n",
       "      <td>False</td>\n",
       "      <td>False</td>\n",
       "      <td>False</td>\n",
       "      <td>False</td>\n",
       "      <td>False</td>\n",
       "      <td>False</td>\n",
       "      <td>False</td>\n",
       "    </tr>\n",
       "  </tbody>\n",
       "</table>\n",
       "<p>2524 rows × 2523 columns</p>\n",
       "</div>"
      ],
      "text/plain": [
       "      10 COLOUR SPACEBOY PEN  12 COLOURED PARTY BALLOONS  \\\n",
       "0                      False                       False   \n",
       "1                      False                       False   \n",
       "2                      False                       False   \n",
       "3                      False                       False   \n",
       "4                      False                       False   \n",
       "...                      ...                         ...   \n",
       "2519                   False                       False   \n",
       "2520                   False                       False   \n",
       "2521                   False                       False   \n",
       "2522                   False                       False   \n",
       "2523                   False                       False   \n",
       "\n",
       "      12 DAISY PEGS IN WOOD BOX  12 EGG HOUSE PAINTED WOOD  \\\n",
       "0                         False                      False   \n",
       "1                         False                      False   \n",
       "2                         False                      False   \n",
       "3                         False                      False   \n",
       "4                         False                      False   \n",
       "...                         ...                        ...   \n",
       "2519                      False                      False   \n",
       "2520                      False                      False   \n",
       "2521                      False                      False   \n",
       "2522                      False                      False   \n",
       "2523                      False                      False   \n",
       "\n",
       "      12 IVORY ROSE PEG PLACE SETTINGS  12 MESSAGE CARDS WITH ENVELOPES  \\\n",
       "0                                False                            False   \n",
       "1                                False                            False   \n",
       "2                                False                            False   \n",
       "3                                False                            False   \n",
       "4                                False                            False   \n",
       "...                                ...                              ...   \n",
       "2519                             False                            False   \n",
       "2520                             False                            False   \n",
       "2521                             False                            False   \n",
       "2522                             False                            False   \n",
       "2523                             False                            False   \n",
       "\n",
       "      12 PENCIL SMALL TUBE WOODLAND  12 PENCILS SMALL TUBE RED RETROSPOT  \\\n",
       "0                             False                                False   \n",
       "1                             False                                False   \n",
       "2                             False                                False   \n",
       "3                             False                                False   \n",
       "4                             False                                False   \n",
       "...                             ...                                  ...   \n",
       "2519                          False                                False   \n",
       "2520                          False                                False   \n",
       "2521                          False                                False   \n",
       "2522                          False                                False   \n",
       "2523                          False                                False   \n",
       "\n",
       "      12 PENCILS SMALL TUBE SKULL  12 PENCILS TALL TUBE POSY  ...  \\\n",
       "0                           False                      False  ...   \n",
       "1                           False                      False  ...   \n",
       "2                           False                      False  ...   \n",
       "3                           False                      False  ...   \n",
       "4                           False                      False  ...   \n",
       "...                           ...                        ...  ...   \n",
       "2519                        False                      False  ...   \n",
       "2520                        False                      False  ...   \n",
       "2521                        False                      False  ...   \n",
       "2522                        False                      False  ...   \n",
       "2523                        False                      False  ...   \n",
       "\n",
       "      YULETIDE IMAGES S/6 PAPER BOXES  ZINC FINISH 15CM PLANTER POTS  \\\n",
       "0                               False                          False   \n",
       "1                               False                          False   \n",
       "2                               False                          False   \n",
       "3                               False                          False   \n",
       "4                               False                          False   \n",
       "...                               ...                            ...   \n",
       "2519                            False                          False   \n",
       "2520                            False                          False   \n",
       "2521                            False                          False   \n",
       "2522                            False                          False   \n",
       "2523                            False                          False   \n",
       "\n",
       "      ZINC HEART LATTICE 2 WALL PLANTER  ZINC HEART LATTICE CHARGER LARGE  \\\n",
       "0                                 False                             False   \n",
       "1                                 False                             False   \n",
       "2                                 False                             False   \n",
       "3                                 False                             False   \n",
       "4                                 False                             False   \n",
       "...                                 ...                               ...   \n",
       "2519                              False                             False   \n",
       "2520                              False                             False   \n",
       "2521                              False                             False   \n",
       "2522                              False                             False   \n",
       "2523                              False                             False   \n",
       "\n",
       "      ZINC HEART LATTICE CHARGER SMALL  ZINC HEART LATTICE T-LIGHT HOLDER  \\\n",
       "0                                False                              False   \n",
       "1                                False                              False   \n",
       "2                                False                              False   \n",
       "3                                False                              False   \n",
       "4                                False                              False   \n",
       "...                                ...                                ...   \n",
       "2519                             False                              False   \n",
       "2520                             False                              False   \n",
       "2521                             False                              False   \n",
       "2522                             False                              False   \n",
       "2523                             False                              False   \n",
       "\n",
       "      ZINC HEART LATTICE TRAY OVAL  ZINC METAL HEART DECORATION  \\\n",
       "0                            False                        False   \n",
       "1                            False                        False   \n",
       "2                            False                        False   \n",
       "3                            False                        False   \n",
       "4                            False                        False   \n",
       "...                            ...                          ...   \n",
       "2519                         False                        False   \n",
       "2520                         False                        False   \n",
       "2521                         False                        False   \n",
       "2522                         False                        False   \n",
       "2523                         False                        False   \n",
       "\n",
       "      ZINC TOP  2 DOOR WOODEN SHELF  ZINC WILLIE WINKIE  CANDLE STICK  \n",
       "0                             False                             False  \n",
       "1                             False                             False  \n",
       "2                             False                             False  \n",
       "3                             False                             False  \n",
       "4                             False                             False  \n",
       "...                             ...                               ...  \n",
       "2519                          False                             False  \n",
       "2520                          False                             False  \n",
       "2521                          False                             False  \n",
       "2522                          False                             False  \n",
       "2523                          False                             False  \n",
       "\n",
       "[2524 rows x 2523 columns]"
      ]
     },
     "execution_count": 3,
     "metadata": {},
     "output_type": "execute_result"
    }
   ],
   "source": [
    "from mlxtend.preprocessing import TransactionEncoder\n",
    "data1=data.copy()\n",
    "transactions = data1.groupby('BillNo')['Itemname'].apply(list).tolist()\n",
    "te = TransactionEncoder()\n",
    "te_ary = te.fit(transactions).transform(transactions)\n",
    "df = pd.DataFrame(te_ary, columns=te.columns_)\n",
    "df"
   ]
  },
  {
   "cell_type": "markdown",
   "metadata": {},
   "source": [
    "##### Step 3: Generate frequent itemsets&association rules: "
   ]
  },
  {
   "cell_type": "markdown",
   "metadata": {},
   "source": [
    "We'll use some code from workshop 5[1] and to generate frequent itemsets and construct the rules, but we'll use FP-Growth Algorithm instead of the apriori Algorithm, since from the experiment we find that FP-Growth is much faster and is good for large datasets, there are also some other advantages like Scalability and Flexibility, we get some of them from Anıl Çoğalan[2]."
   ]
  },
  {
   "cell_type": "markdown",
   "metadata": {},
   "source": [
    "In addition, we also selected different min_support thresholds for experiments and used the results to find a relatively suitable threshold. Based on the experimental results, we chose threshold=0.01, because it can be seen that this is the inflection point of the entire data, and a trade-off between the number of rules, lift and threshold is reached here."
   ]
  },
  {
   "cell_type": "code",
   "execution_count": 4,
   "metadata": {},
   "outputs": [
    {
     "data": {
      "image/png": "[encoded data removed]",
      "text/plain": [
       "<Figure size 1000x600 with 2 Axes>"
      ]
     },
     "metadata": {},
     "output_type": "display_data"
    }
   ],
   "source": [
    "from mlxtend.frequent_patterns import fpgrowth, association_rules\n",
    "import matplotlib.pyplot as plt\n",
    "num_rules_list = []\n",
    "min_support_list = []\n",
    "confidence_list = []\n",
    "lift_list = []\n",
    "\n",
    "for i in range(5):\n",
    "    min_support = 0.005 * (i + 1)  \n",
    "    frequent_itemsets = fpgrowth(df, min_support=min_support, use_colnames=True)\n",
    "    rules = association_rules(frequent_itemsets, metric=\"lift\", min_threshold=0.6)\n",
    "    num_rules = len(rules)\n",
    "    num_rules_list.append(num_rules)\n",
    "    min_support_list.append(min_support)\n",
    "    avg_confidence = rules['confidence'].mean()\n",
    "    avg_lift = rules['lift'].mean()\n",
    "    confidence_list.append(avg_confidence)\n",
    "    lift_list.append(avg_lift)\n",
    "fig, ax1 = plt.subplots(figsize=(10, 6))\n",
    "\n",
    "ax1.plot(min_support_list, num_rules_list, marker='o', color='b', label='Number of Rules')\n",
    "ax1.set_xlabel('Min Support')\n",
    "ax1.set_ylabel('Number of Rules', color='b')\n",
    "ax1.tick_params('y', colors='b')\n",
    "ax2 = ax1.twinx()\n",
    "ax2.plot(min_support_list, confidence_list, marker='x', color='r', label='Average Confidence')\n",
    "ax2.plot(min_support_list, lift_list, marker='s', color='g', label='Average Lift')\n",
    "ax2.set_ylabel('Metrics', color='r')\n",
    "ax2.tick_params('y', colors='r')\n",
    "\n",
    "lines, labels = ax1.get_legend_handles_labels()\n",
    "lines2, labels2 = ax2.get_legend_handles_labels()\n",
    "ax2.legend(lines + lines2, labels + labels2, loc='upper right')\n",
    "plt.title('Association Rules Metrics vs. Min Support')\n",
    "plt.ticklabel_format(style='plain')\n",
    "plt.show()"
   ]
  },
  {
   "cell_type": "markdown",
   "metadata": {},
   "source": [
    "##### Step 4: Display the frequent itemsets and association rules:"
   ]
  },
  {
   "cell_type": "markdown",
   "metadata": {},
   "source": [
    "Here we print some frequent itemsets generated using FP-growth and their support. In the process of generating rules, the threshold is set to 0.7, so that the generated rules are all high-confidence rules, and further adjustments to the relevant rules can be omitted when building the recommendation system later."
   ]
  },
  {
   "cell_type": "code",
   "execution_count": 5,
   "metadata": {},
   "outputs": [
    {
     "name": "stdout",
     "output_type": "stream",
     "text": [
      "Frequent Itemsets:\n",
      "      support                                           itemsets\n",
      "0    0.105388               (WHITE HANGING HEART T-LIGHT HOLDER)\n",
      "1    0.039223              (KNITTED UNION FLAG HOT WATER BOTTLE)\n",
      "2    0.035658                   (RED WOOLLY HOTTIE WHITE HEART.)\n",
      "3    0.031300                     (SET 7 BABUSHKA NESTING BOXES)\n",
      "4    0.029319                   (CREAM CUPID HEARTS COAT HANGER)\n",
      "..        ...                                                ...\n",
      "693  0.011886  (SET OF 6 SPICE TINS PANTRY DESIGN, SET OF 3 C...\n",
      "694  0.017433  (SET OF 6 SPICE TINS PANTRY DESIGN, SET OF 6 H...\n",
      "695  0.015055  (SET OF 6 HERB TINS SKETCHBOOK, SET OF 3 CAKE ...\n",
      "696  0.012282  (SET OF 6 SPICE TINS PANTRY DESIGN, SET OF 6 H...\n",
      "697  0.013471  (SET OF 3 CAKE TINS SKETCHBOOK, SET OF 3 CAKE ...\n",
      "\n",
      "[698 rows x 2 columns]\n"
     ]
    }
   ],
   "source": [
    "frequent_itemsets = fpgrowth(df, min_support=0.01, use_colnames=True)\n",
    "rules = association_rules(frequent_itemsets, metric=\"confidence\", min_threshold=0.7)\n",
    "if len(frequent_itemsets) == 0:\n",
    "    print(\"frequent_itemsets is empty!\")\n",
    "else:\n",
    "    print(\"Frequent Itemsets:\")\n",
    "    print(frequent_itemsets)"
   ]
  },
  {
   "cell_type": "markdown",
   "metadata": {},
   "source": [
    "Then we generate the association rules according to the frequent itemsets we get before."
   ]
  },
  {
   "cell_type": "code",
   "execution_count": 6,
   "metadata": {},
   "outputs": [
    {
     "name": "stdout",
     "output_type": "stream",
     "text": [
      "\n",
      "Association Rules:\n",
      "                                          antecedents  \\\n",
      "0                         (POPPY'S PLAYHOUSE KITCHEN)   \n",
      "1                         (POPPY'S PLAYHOUSE BEDROOM)   \n",
      "2   (WOODEN PICTURE FRAME WHITE FINISH, WOOD 2 DRA...   \n",
      "3   (WOODEN FRAME ANTIQUE WHITE, WOOD 2 DRAWER CAB...   \n",
      "4   (WOOD S/3 CABINET ANT WHITE FINISH, WOODEN PIC...   \n",
      "..                                                ...   \n",
      "58               (BAKING MOULD HEART WHITE CHOCOLATE)   \n",
      "59                (SET OF 6 SPICE TINS PANTRY DESIGN)   \n",
      "60  (JAM MAKING SET WITH JARS, SET OF 6 SPICE TINS...   \n",
      "61  (SET OF 6 SPICE TINS PANTRY DESIGN, SET OF 6 H...   \n",
      "62  (SET OF 3 CAKE TINS PANTRY DESIGN, SET OF 6 HE...   \n",
      "\n",
      "                             consequents  antecedent support  \\\n",
      "0            (POPPY'S PLAYHOUSE BEDROOM)            0.029319   \n",
      "1            (POPPY'S PLAYHOUSE KITCHEN)            0.026149   \n",
      "2           (WOODEN FRAME ANTIQUE WHITE)            0.015848   \n",
      "3    (WOODEN PICTURE FRAME WHITE FINISH)            0.013471   \n",
      "4   (WOOD 2 DRAWER CABINET WHITE FINISH)            0.015848   \n",
      "..                                   ...                 ...   \n",
      "58   (BAKING MOULD HEART MILK CHOCOLATE)            0.020602   \n",
      "59    (SET OF 3 CAKE TINS PANTRY DESIGN)            0.053883   \n",
      "60    (SET OF 3 CAKE TINS PANTRY DESIGN)            0.014659   \n",
      "61    (SET OF 3 CAKE TINS PANTRY DESIGN)            0.017433   \n",
      "62   (SET OF 6 SPICE TINS PANTRY DESIGN)            0.015055   \n",
      "\n",
      "    consequent support   support  confidence       lift  leverage  conviction  \\\n",
      "0             0.026149  0.020602    0.702703  26.873055  0.019836    3.275681   \n",
      "1             0.029319  0.020602    0.787879  26.873055  0.019836    4.576070   \n",
      "2             0.048336  0.011094    0.700000  14.481967  0.010327    3.172213   \n",
      "3             0.045166  0.011094    0.823529  18.233230  0.010485    5.410724   \n",
      "4             0.038827  0.013074    0.825000  21.247959  0.012459    5.492416   \n",
      "..                 ...       ...         ...        ...       ...         ...   \n",
      "58            0.022583  0.014659    0.711538  31.507422  0.014194    3.388378   \n",
      "59            0.090333  0.038431    0.713235   7.895640  0.033564    3.172173   \n",
      "60            0.090333  0.011886    0.810811   8.975818  0.010562    4.808241   \n",
      "61            0.090333  0.012282    0.704545   7.799442  0.010707    3.078874   \n",
      "62            0.053883  0.012282    0.815789  15.140093  0.011471    5.136065   \n",
      "\n",
      "    zhangs_metric  \n",
      "0        0.991868  \n",
      "1        0.988640  \n",
      "2        0.945940  \n",
      "3        0.958061  \n",
      "4        0.968282  \n",
      "..            ...  \n",
      "58       0.988629  \n",
      "59       0.923086  \n",
      "60       0.901809  \n",
      "61       0.887253  \n",
      "62       0.948226  \n",
      "\n",
      "[63 rows x 10 columns]\n"
     ]
    }
   ],
   "source": [
    "print(\"\\nAssociation Rules:\")\n",
    "print(rules)\n",
    "rules_df = pd.DataFrame(rules)\n",
    "rules_df.to_csv('rules.csv', index=False)"
   ]
  },
  {
   "cell_type": "markdown",
   "metadata": {},
   "source": [
    "Using the same process, we construct the frequent itemsets and association rules of the test set and display them."
   ]
  },
  {
   "cell_type": "code",
   "execution_count": 6,
   "metadata": {},
   "outputs": [
    {
     "name": "stdout",
     "output_type": "stream",
     "text": [
      "Frequent Itemsets:\n",
      "      support                                           itemsets\n",
      "0    0.051071                (JUMBO SHOPPER VINTAGE RED PAISLEY)\n",
      "1    0.042834                         (LOVE BUILDING BLOCK WORD)\n",
      "2    0.019769                        (EDWARDIAN PARASOL NATURAL)\n",
      "3    0.014827                      (RED HEART SHAPE LOVE BUCKET)\n",
      "4    0.014827                    (WOODEN HAPPY BIRTHDAY GARLAND)\n",
      "..        ...                                                ...\n",
      "969  0.014827   (STRAWBERRY CHARLOTTE BAG, JUMBO BAG STRAWBERRY)\n",
      "970  0.011532  (LUNCH BAG SPACEBOY DESIGN, STRAWBERRY CHARLOT...\n",
      "971  0.011532  (JUMBO BAG SCANDINAVIAN BLUE PAISLEY, JUMBO BA...\n",
      "972  0.011532  (HANGING CHICK GREEN DECORATION, HANGING CHICK...\n",
      "973  0.011532  (FELTCRAFT GIRL AMELIE KIT, FELTCRAFT GIRL NIC...\n",
      "\n",
      "[974 rows x 2 columns]\n"
     ]
    }
   ],
   "source": [
    "from mlxtend.preprocessing import TransactionEncoder\n",
    "from mlxtend.frequent_patterns import fpgrowth, association_rules\n",
    "datat=pd.read_csv(\"basket_data_by_date_test.csv\")\n",
    "data2=datat.copy()\n",
    "transactions = data2.groupby('BillNo')['Itemname'].apply(list).tolist()\n",
    "te = TransactionEncoder()\n",
    "te_ary = te.fit(transactions).transform(transactions)\n",
    "df2 = pd.DataFrame(te_ary, columns=te.columns_)\n",
    "frequent_itemsets = fpgrowth(df2, min_support=0.01, use_colnames=True)\n",
    "rules = association_rules(frequent_itemsets, metric=\"confidence\", min_threshold=0.7)\n",
    "if len(frequent_itemsets) == 0:\n",
    "    print(\"frequent_itemsets is empty!\")\n",
    "else:\n",
    "    print(\"Frequent Itemsets:\")\n",
    "    print(frequent_itemsets)\n",
    "frequent_itemsets.to_csv('frequent_itemsets.csv', index=False)"
   ]
  },
  {
   "cell_type": "code",
   "execution_count": 49,
   "metadata": {},
   "outputs": [
    {
     "name": "stdout",
     "output_type": "stream",
     "text": [
      "\n",
      "Association Rules:\n",
      "                                           antecedents  \\\n",
      "0          (DOORMAT NEW ENGLAND, DOORMAT ENGLISH ROSE)   \n",
      "1    (DOORMAT ENGLISH ROSE, DOORMAT SPOTTY HOME SWE...   \n",
      "2                      (BLUE GIANT GARDEN THERMOMETER)   \n",
      "3    (PARTY BUNTING, SET OF 6 SPICE TINS PANTRY DES...   \n",
      "4            (JAM MAKING SET WITH JARS, PARTY BUNTING)   \n",
      "..                                                 ...   \n",
      "283              (JUMBO BAG SCANDINAVIAN BLUE PAISLEY)   \n",
      "284                   (HANGING CHICK GREEN DECORATION)   \n",
      "285                 (HANGING CHICK  YELLOW DECORATION)   \n",
      "286                        (FELTCRAFT GIRL NICOLE KIT)   \n",
      "287                        (FELTCRAFT GIRL AMELIE KIT)   \n",
      "\n",
      "                            consequents  antecedent support  \\\n",
      "0      (DOORMAT SPOTTY HOME SWEET HOME)            0.016474   \n",
      "1                 (DOORMAT NEW ENGLAND)            0.011532   \n",
      "2      (IVORY GIANT GARDEN THERMOMETER)            0.014827   \n",
      "3    (SET OF 3 CAKE TINS PANTRY DESIGN)            0.016474   \n",
      "4    (SET OF 3 CAKE TINS PANTRY DESIGN)            0.014827   \n",
      "..                                  ...                 ...   \n",
      "283    (JUMBO BAG PINK VINTAGE PAISLEY)            0.014827   \n",
      "284  (HANGING CHICK  YELLOW DECORATION)            0.014827   \n",
      "285    (HANGING CHICK GREEN DECORATION)            0.016474   \n",
      "286         (FELTCRAFT GIRL AMELIE KIT)            0.013180   \n",
      "287         (FELTCRAFT GIRL NICOLE KIT)            0.011532   \n",
      "\n",
      "     consequent support   support  confidence       lift  leverage  \\\n",
      "0              0.026359  0.011532    0.700000  26.556250  0.011098   \n",
      "1              0.044481  0.011532    1.000000  22.481481  0.011019   \n",
      "2              0.039539  0.011532    0.777778  19.671296  0.010946   \n",
      "3              0.148270  0.011532    0.700000   4.721111  0.009089   \n",
      "4              0.148270  0.013180    0.888889   5.995062  0.010981   \n",
      "..                  ...       ...         ...        ...       ...   \n",
      "283            0.046129  0.011532    0.777778  16.861111  0.010848   \n",
      "284            0.016474  0.011532    0.777778  47.211111  0.011288   \n",
      "285            0.014827  0.011532    0.700000  47.211111  0.011288   \n",
      "286            0.011532  0.011532    0.875000  75.875000  0.011380   \n",
      "287            0.013180  0.011532    1.000000  75.875000  0.011380   \n",
      "\n",
      "     conviction  zhangs_metric  \n",
      "0      3.245470       0.978464  \n",
      "1           inf       0.966667  \n",
      "2      4.322076       0.963450  \n",
      "3      2.839099       0.801388  \n",
      "4      7.665568       0.845736  \n",
      "..          ...            ...  \n",
      "283    4.292422       0.954849  \n",
      "284    4.425865       0.993550  \n",
      "285    3.283910       0.995214  \n",
      "286    7.907743       1.000000  \n",
      "287         inf       0.998333  \n",
      "\n",
      "[288 rows x 10 columns]\n"
     ]
    }
   ],
   "source": [
    "print(\"\\nAssociation Rules:\")\n",
    "print(rules)"
   ]
  },
  {
   "cell_type": "markdown",
   "metadata": {},
   "source": [
    "The analysis of the results from frequent itemset mining and rule generation reveals some common patterns.  \n",
    " Firstly, many items remain consistent between the frequent itemsets mined using FP-growth and the product catalog sorted by quantity using visualization analysis, such as WHITE HANGING HEART T-LIGHT HOLDER, which are the most numerous even though FP-growth ignores quantity and only counts occurrence frequency. This indicates that high-frequency products mined using different analysis methods are in high demand and have good robustness, and should be emphasized in subsequent purchasing strategies.  \n",
    " Secondly, the rules for constructing the training set and the test set can all find a pattern, that is, products with higher correlation are either relatively close or matching products, which can give us a preliminary understanding of the design of the recommendation system."
   ]
  },
  {
   "cell_type": "markdown",
   "metadata": {},
   "source": [
    "#### Task 2: Recommender systems(By Weiyou Liu)"
   ]
  },
  {
   "cell_type": "markdown",
   "metadata": {},
   "source": [
    "##### Step 5:Construct model function"
   ]
  },
  {
   "cell_type": "markdown",
   "metadata": {},
   "source": [
    "In this part, we refer to the recommendation system construction rules of workshop5 and design the recommendation process of our recommendation system. We first construct a user-item matrix based on the input data set, then use cosine similarity to calculate the similarity scores between items to obtain a similarity matrix, and design a recommendation score calculation system based on past purchase records and current items. We also added logic to generate recommendations based on the pattern generated by task1. For the cold start problem of new users, we use a simple but effective logic, which is to select the most popular items for recommendation."
   ]
  },
  {
   "cell_type": "code",
   "execution_count": 7,
   "metadata": {},
   "outputs": [],
   "source": [
    "import ast\n",
    "import numpy as np\n",
    "import pandas as pd\n",
    "from sklearn.metrics.pairwise import cosine_similarity\n",
    "class RecommendationSystem:\n",
    "    def __init__(self, train_data, test_data, use_pattern=False):\n",
    "        self.train_data = train_data.astype({'CustomerID': 'int'})\n",
    "        self.test_data = test_data.astype({'CustomerID': 'int'})\n",
    "        self.patterns = use_pattern\n",
    "        self.user_items_matrix_train = self.users_items_matrix(self.train_data)\n",
    "        self.user_items_matrix_test = self.users_items_matrix(self.test_data)\n",
    "        self.item_similarity = {}\n",
    "        self.neighbors=3\n",
    "    #Construct user-item matrix\n",
    "    def users_items_matrix(self, dataframe):     \n",
    "        user_item_matrix = dataframe.groupby(['CustomerID', 'Itemname']).size().reset_index(name='Quantity')\n",
    "        user_item_matrix = user_item_matrix.pivot_table(index='CustomerID', \n",
    "                                                                columns='Itemname', \n",
    "                                                                values='Quantity', fill_value=0)\n",
    "        return user_item_matrix\n",
    "    #Constructing a user-item matrix that introduces patterns\n",
    "    def use_patterns(self, df_patterns):\n",
    "        users = self.user_items_matrix_train.index\n",
    "        for user in users:\n",
    "            ser_aim = self.user_items_matrix_train.loc[user, :]\n",
    "            user_cart = ser_aim[ser_aim != 0].index  \n",
    "            user_cart = set(user_cart)\n",
    "\n",
    "            for index, row in df_patterns.iterrows():\n",
    "                if row['set1'].issubset(user_cart):\n",
    "                    imputed_items = list(row['set2'])\n",
    "                    self.user_items_matrix_train.loc[user, imputed_items] = 1\n",
    "    #Compute cosine similarity\n",
    "    def cos_similarity(self):\n",
    "        columns = self.user_items_matrix_train.columns\n",
    "        for i in range(len(columns)): \n",
    "            item_i = np.array(self.user_items_matrix_train[columns[i]],dtype=float).reshape(1,-1)\n",
    "            list_sim = []\n",
    "            \n",
    "            for j in range(len(columns)):\n",
    "                if i==j:\n",
    "                    continue\n",
    "                else:\n",
    "                    item_j = np.array(self.user_items_matrix_train[columns[j]],dtype=float).reshape(1,-1)\n",
    "                    similarity = round(cosine_similarity(item_i, item_j)[0][0],3)\n",
    "                    list_sim.append((columns[j], similarity))\n",
    "            list_sim = sorted(list_sim, key=lambda x: x[1], reverse=True)\n",
    "            self.item_similarity[columns[i]] = list_sim\n",
    "    #Construct a score calculation method,The number of neighbors referenced when calculating the similarity \n",
    "    #score is variable. By default, we use 3 neighbors to calculate the similarity score.\n",
    "    def calculate_scores(self, user_cart_train, target_item):\n",
    "        if len(user_cart_train) <= self.neighbors:\n",
    "            neighbors = len(user_cart_train)\n",
    "        else:\n",
    "            neighbors = self.neighbors  \n",
    "        target_similarity = self.item_similarity[target_item]\n",
    "        sim_in_cart = []\n",
    "        for i in target_similarity:\n",
    "            for j in user_cart_train:\n",
    "                if i[0]==j[0]:\n",
    "                    sim_in_cart.append(i)\n",
    "        sim_in_cart = sorted(sim_in_cart, key=lambda x: x[0])\n",
    "        user_cart_train = sorted(user_cart_train, key=lambda x: x[0])\n",
    "        for sim, num, index in zip(sim_in_cart, user_cart_train, range(len(user_cart_train))):\n",
    "            modified_similarity = sim[1] * num[1]\n",
    "            sim_in_cart[index] = (sim[0], modified_similarity)\n",
    "        sim_in_cart = sorted(sim_in_cart, key=lambda x: x[1])[:neighbors]\n",
    "        scores = sum([each[1] for each in sim_in_cart])*100\n",
    "        return (target_item, scores)\n",
    "    #Build a recommendation system, we choose to generate 10 recommendations for each input\n",
    "    def recommend(self, user_cart):\n",
    "        N=10\n",
    "        if not isinstance(user_cart, list):\n",
    "            user_cart = [(user_cart, 1)]  \n",
    "        if len(user_cart) == 0:\n",
    "            most_popular_items = list(self.user_items_matrix_train.sum().sort_values(ascending=False)[:N].index)\n",
    "            return most_popular_items\n",
    "        if len(user_cart) == 1:\n",
    "            sim_to_cart = self.item_similarity[user_cart[0][0]]\n",
    "            recommend = [each[0] for each in sim_to_cart[:N]]\n",
    "            return recommend\n",
    "        score_list = []\n",
    "        selected_items = [each[0] for each in user_cart]\n",
    "        all_items = list(self.item_similarity.keys())\n",
    "        non_selected_items = [each for each in all_items if each not in selected_items]\n",
    "        for ns_item in non_selected_items:\n",
    "            score_list.append(self.calculate_scores(user_cart, ns_item))\n",
    "        score_items = sorted(score_list, key=lambda x: x[1], reverse=True)\n",
    "        recommend = [each[0] for each in score_items[:N]]\n",
    "        return recommend\n",
    "    #Design the train function\n",
    "    def train(self):\n",
    "        if self.patterns==False:\n",
    "            self.cos_similarity()\n",
    "        elif self.patterns==True:\n",
    "            df_patterns = pd.read_csv(\"rules.csv\")\n",
    "            df_patterns['set1'] = df_patterns['antecedents'].apply(lambda x: ast.literal_eval(x.split('frozenset(')[1].split(')')[0]))\n",
    "            df_patterns['set2'] = df_patterns['consequents'].apply(lambda x: ast.literal_eval(x.split('frozenset(')[1].split(')')[0]))\n",
    "            df_patterns = df_patterns.loc[:,['set1','set2','confidence']]\n",
    "            self.use_patterns(df_patterns)\n",
    "            self.cos_similarity()\n",
    "    #Design the evaluate function, for none-cold start and cold start we use different methods.\n",
    "    def evaluate(self):\n",
    "        train_users = set(self.user_items_matrix_train.index)\n",
    "        test_users = set(self.user_items_matrix_test.index)\n",
    "        new_users = [user for user in test_users if user not in train_users]\n",
    "        exist_users = [user for user in test_users if user in train_users]\n",
    "        precision_at_k = []\n",
    "        recall_at_k = []\n",
    "        f1_at_k = []\n",
    "\n",
    "        for user in exist_users:\n",
    "            user_cart_train = self.user_items_matrix_train.loc[user,:] \n",
    "            user_cart_train = user_cart_train[user_cart_train!=0]\n",
    "            user_cart_train = list(user_cart_train.items())\n",
    "            user_cart_test = self.user_items_matrix_test.loc[user,:]\n",
    "            user_cart_test = user_cart_test[user_cart_test!=0]\n",
    "            user_cart_test = list(user_cart_test.index)\n",
    "            recommendation = self.recommend(user_cart_train)\n",
    "            like_items = [item for item in recommendation if item in user_cart_test]\n",
    "            precision = len(like_items)/len(recommendation)\n",
    "            recall = len(like_items)/len(user_cart_test)\n",
    "            if precision + recall==0:\n",
    "                f1=0\n",
    "            else:\n",
    "                f1 = 2*(precision*recall)/(precision+recall)\n",
    "            precision_at_k.append(precision)\n",
    "            recall_at_k.append(recall)\n",
    "            f1_at_k.append(f1)\n",
    "        for user in new_users:\n",
    "            user_cart_test = self.user_items_matrix_test.loc[user,:]\n",
    "            user_cart_test = user_cart_test[user_cart_test!=0]\n",
    "            user_cart_test = list(user_cart_test.index)\n",
    "            recommendation = self.recommend([])\n",
    "            like_items = [item for item in recommendation if item in user_cart_test]\n",
    "            precision = len(like_items)/len(recommendation)\n",
    "            recall = len(like_items)/len(user_cart_test)\n",
    "            if precision + recall==0:\n",
    "                f1=0\n",
    "            else:\n",
    "                f1 = 2*(precision*recall)/(precision+recall)\n",
    "            precision_at_k.append(precision)\n",
    "            recall_at_k.append(recall)\n",
    "            f1_at_k.append(f1)\n",
    "        precision_output = round(np.mean(precision_at_k),3)\n",
    "        recall_output = round(np.mean(recall_at_k),3)\n",
    "        f1_output = round(np.mean(f1_at_k),3)\n",
    "        return precision_output, recall_output, f1_output"
   ]
  },
  {
   "cell_type": "markdown",
   "metadata": {},
   "source": [
    "##### Step 6: Results evaluation:"
   ]
  },
  {
   "cell_type": "markdown",
   "metadata": {},
   "source": [
    "Here we use two different methods to train the model, one is a model without the pattern generated by task1 participating in the training, and the other is introducing the pattern generated by task1 to participate in the training."
   ]
  },
  {
   "cell_type": "markdown",
   "metadata": {},
   "source": [
    "We use Precision, recall and F1-score as evaluation metrics.  \n",
    "Precision rate refers to the proportion of items recommended to users that are actually liked by users. The higher the accuracy, the higher the proportion of items recommended by the system that truly meet the user's preferences.  \n",
    "Recall rate refers to the proportion of items that users actually like that are successfully recommended by the system. The higher the recall rate, the more comprehensive the system can cover the items that users like.  \n",
    "The F1 value is the harmonic average of precision and recall, which takes into account the accuracy and comprehensiveness of the recommendation results. The closer the value is to 1, the better the recommendation effect of the system.  \n",
    "The results show that the effect of using patterns or not in model training is not very obvious, but in general the model using patterns performs better."
   ]
  },
  {
   "cell_type": "code",
   "execution_count": 75,
   "metadata": {},
   "outputs": [
    {
     "name": "stdout",
     "output_type": "stream",
     "text": [
      "Average Precision: 0.051, Average Recall: 0.037, Average F1-score: 0.035\n"
     ]
    }
   ],
   "source": [
    "data_train = pd.read_csv(\"basket_data_by_date_train.csv\")\n",
    "data_test = pd.read_csv(\"basket_data_by_date_test.csv\")\n",
    "print(data_test.isnull().sum().sum())\n",
    "data_test = data_test.dropna()\n",
    "print(data_test.isnull().sum().sum())\n",
    "rs = RecommendationSystem(data_train, data_test, use_pattern=False)\n",
    "rs.train()\n",
    "avg_precision, avg_recall, avg_f1 = rs.evaluate()\n",
    "print(f\"Average Precision: {avg_precision}, Average Recall: {avg_recall}, Average F1-score: {avg_f1}\")"
   ]
  },
  {
   "cell_type": "code",
   "execution_count": 76,
   "metadata": {},
   "outputs": [
    {
     "name": "stdout",
     "output_type": "stream",
     "text": [
      "Average Precision: 0.051, Average Recall: 0.038, Average F1-score: 0.036\n"
     ]
    }
   ],
   "source": [
    "rs1 = RecommendationSystem(data_train, data_test, use_pattern=True)\n",
    "rs1.train()\n",
    "avg_precision, avg_recall, avg_f1 = rs1.evaluate()\n",
    "print(f\"Average Precision: {avg_precision}, Average Recall: {avg_recall}, Average F1-score: {avg_f1}\")"
   ]
  },
  {
   "cell_type": "markdown",
   "metadata": {},
   "source": [
    "We select the top five patterns of training set for recommendation and reference. The items corresponding to patterns are:  \n",
    "WHITE HANGING HEART T-LIGHT HOLDER   \n",
    "KNITTED UNION FLAG HOT WATER BOTTLE  \n",
    "RED WOOLLY HOTTIE WHITE HEART   \n",
    "SET 7 BABUSHKA NESTING BOXES      \n",
    "CREAM CUPID HEARTS COAT HANGER  \n",
    "Then we find two CustomerIDs with these items for each rule in the test set and make recommendations\n"
   ]
  },
  {
   "cell_type": "code",
   "execution_count": 9,
   "metadata": {},
   "outputs": [
    {
     "name": "stdout",
     "output_type": "stream",
     "text": [
      "[17338. 16014.]\n",
      "[17338. 13077.]\n",
      "[12709. 17817.]\n",
      "[12509. 15241.]\n",
      "[17338. 16907.]\n"
     ]
    }
   ],
   "source": [
    "customer_ids = data_test.loc[data_test['Itemname'].str.contains(\"WHITE HANGING HEART T-LIGHT HOLDER\"), 'CustomerID'].unique()\n",
    "print(customer_ids[:2])\n",
    "customer_ids = data_test.loc[data_test['Itemname'].str.contains(\"KNITTED UNION FLAG HOT WATER BOTTLE\"), 'CustomerID'].unique()\n",
    "print(customer_ids[:2])\n",
    "customer_ids = data_test.loc[data_test['Itemname'].str.contains(\"RED WOOLLY HOTTIE WHITE HEART\"), 'CustomerID'].unique()\n",
    "print(customer_ids[:2])\n",
    "customer_ids = data_test.loc[data_test['Itemname'].str.contains(\"SET 7 BABUSHKA NESTING BOXES\"), 'CustomerID'].unique()\n",
    "print(customer_ids[:2])\n",
    "customer_ids = data_test.loc[data_test['Itemname'].str.contains(\"CREAM CUPID HEARTS COAT HANGER\"), 'CustomerID'].unique()\n",
    "print(customer_ids[:2])"
   ]
  },
  {
   "cell_type": "code",
   "execution_count": 10,
   "metadata": {},
   "outputs": [
    {
     "name": "stdout",
     "output_type": "stream",
     "text": [
      "72 SWEETHEART FAIRY CAKE CASES\n",
      "HEART OF WICKER SMALL\n",
      "REX CASH+CARRY JUMBO SHOPPER\n",
      "10 COLOUR SPACEBOY PEN\n",
      "12 DAISY PEGS IN WOOD BOX\n",
      "12 EGG HOUSE PAINTED WOOD\n",
      "12 IVORY ROSE PEG PLACE SETTINGS\n",
      "12 MESSAGE CARDS WITH ENVELOPES\n",
      "12 PENCIL SMALL TUBE WOODLAND\n",
      "12 PENCILS SMALL TUBE RED RETROSPOT\n",
      "-----------------\n",
      "HEART OF WICKER SMALL\n",
      "NATURAL SLATE HEART CHALKBOARD\n",
      "RETROSPOT RED WASHING UP GLOVES\n",
      "RECIPE BOX RETROSPOT\n",
      "REX CASH+CARRY JUMBO SHOPPER\n",
      "CLOTHES PEGS RETROSPOT PACK 24\n",
      "HEART OF WICKER LARGE\n",
      "JUMBO BAG RED RETROSPOT\n",
      "SMALL POPCORN HOLDER\n",
      "HAND WARMER BABUSHKA DESIGN\n"
     ]
    }
   ],
   "source": [
    "#Recommendation for pattern 1(user with item from rule 1)\n",
    "user_data = data_test[data_test['CustomerID'] == 17338]\n",
    "user_cart = list(user_data['Itemname'].apply(lambda x: (x, 1)).values)\n",
    "recommendations = rs1.recommend(user_cart)\n",
    "for item in recommendations:\n",
    "    print(item)\n",
    "print(\"-----------------\")\n",
    "user_data = data_test[data_test['CustomerID'] == 16014]\n",
    "user_cart = list(user_data['Itemname'].apply(lambda x: (x, 1)).values)\n",
    "recommendations = rs1.recommend(user_cart)\n",
    "for item in recommendations:\n",
    "    print(item)"
   ]
  },
  {
   "cell_type": "code",
   "execution_count": 11,
   "metadata": {},
   "outputs": [
    {
     "name": "stdout",
     "output_type": "stream",
     "text": [
      "72 SWEETHEART FAIRY CAKE CASES\n",
      "HEART OF WICKER SMALL\n",
      "REX CASH+CARRY JUMBO SHOPPER\n",
      "10 COLOUR SPACEBOY PEN\n",
      "12 DAISY PEGS IN WOOD BOX\n",
      "12 EGG HOUSE PAINTED WOOD\n",
      "12 IVORY ROSE PEG PLACE SETTINGS\n",
      "12 MESSAGE CARDS WITH ENVELOPES\n",
      "12 PENCIL SMALL TUBE WOODLAND\n",
      "12 PENCILS SMALL TUBE RED RETROSPOT\n",
      "-----------------\n",
      "10 COLOUR SPACEBOY PEN\n",
      "12 COLOURED PARTY BALLOONS\n",
      "12 DAISY PEGS IN WOOD BOX\n",
      "12 EGG HOUSE PAINTED WOOD\n",
      "12 IVORY ROSE PEG PLACE SETTINGS\n",
      "12 MESSAGE CARDS WITH ENVELOPES\n",
      "12 PENCIL SMALL TUBE WOODLAND\n",
      "12 PENCILS SMALL TUBE RED RETROSPOT\n",
      "12 PENCILS SMALL TUBE SKULL\n",
      "12 PENCILS TALL TUBE POSY\n"
     ]
    }
   ],
   "source": [
    "#Recommendation for pattern 2(user with item from rule 2)\n",
    "user_data = data_test[data_test['CustomerID'] == 17338]\n",
    "user_cart = list(user_data['Itemname'].apply(lambda x: (x, 1)).values)\n",
    "recommendations = rs1.recommend(user_cart)\n",
    "for item in recommendations:\n",
    "    print(item)\n",
    "print(\"-----------------\")\n",
    "user_data = data_test[data_test['CustomerID'] == 13077]\n",
    "user_cart = list(user_data['Itemname'].apply(lambda x: (x, 1)).values)\n",
    "recommendations = rs1.recommend(user_cart)\n",
    "for item in recommendations:\n",
    "    print(item)"
   ]
  },
  {
   "cell_type": "code",
   "execution_count": 12,
   "metadata": {},
   "outputs": [
    {
     "name": "stdout",
     "output_type": "stream",
     "text": [
      "HAND WARMER RED POLKA DOT\n",
      "RETRO COFFEE MUGS ASSORTED\n",
      "VINTAGE BILLBOARD DRINK ME MUG\n",
      "KNITTED UNION FLAG HOT WATER BOTTLE\n",
      "VINTAGE BILLBOARD LOVE/HATE MUG\n",
      "GLASS STAR FROSTED T-LIGHT HOLDER\n",
      "IVORY EMBROIDERED QUILT\n",
      "SAVE THE PLANET MUG\n",
      "WHITE METAL LANTERN\n",
      "HAND WARMER UNION JACK\n",
      "-----------------\n",
      "FELTCRAFT CUSHION RABBIT\n",
      "72 SWEETHEART FAIRY CAKE CASES\n",
      "IVORY KITCHEN SCALES\n",
      "ENAMEL WASH BOWL CREAM\n",
      "LOVE BUILDING BLOCK WORD\n",
      "HEART OF WICKER LARGE\n",
      "HOME BUILDING BLOCK WORD\n",
      "SET OF 3 CAKE TINS PANTRY DESIGN\n",
      "HEART OF WICKER SMALL\n",
      "RETROSPOT TEA SET CERAMIC 11 PC\n"
     ]
    }
   ],
   "source": [
    "#Recommendation for pattern 3(user with item from rule 3)\n",
    "user_data = data_test[data_test['CustomerID'] == 12709]\n",
    "user_cart = list(user_data['Itemname'].apply(lambda x: (x, 1)).values)\n",
    "recommendations = rs1.recommend(user_cart)\n",
    "for item in recommendations:\n",
    "    print(item)\n",
    "print(\"-----------------\")\n",
    "user_data = data_test[data_test['CustomerID'] == 17817]\n",
    "user_cart = list(user_data['Itemname'].apply(lambda x: (x, 1)).values)\n",
    "recommendations = rs1.recommend(user_cart)\n",
    "for item in recommendations:\n",
    "    print(item)"
   ]
  },
  {
   "cell_type": "code",
   "execution_count": 13,
   "metadata": {},
   "outputs": [
    {
     "name": "stdout",
     "output_type": "stream",
     "text": [
      "JUMBO BAG OWLS\n",
      "SMALL FOLKART STAR CHRISTMAS DEC\n",
      "JUMBO BAG RED RETROSPOT\n",
      "HEART OF WICKER LARGE\n",
      "PAPER BUNTING WHITE LACE\n",
      "LUNCH BAG SPACEBOY DESIGN\n",
      "WICKER STAR\n",
      "SMALL PURPLE BABUSHKA NOTEBOOK\n",
      "JUMBO BAG CHARLIE AND LOLA TOYS\n",
      "WOOD BLACK BOARD ANT WHITE FINISH\n",
      "-----------------\n",
      "HOT WATER BOTTLE BABUSHKA\n",
      "POPPY'S PLAYHOUSE KITCHEN\n",
      "PINK CREAM FELT CRAFT TRINKET BOX\n",
      "FELTCRAFT DOLL MARIA\n",
      "FELTCRAFT CUSHION OWL\n",
      "FELTCRAFT CHRISTMAS FAIRY\n",
      "FELTCRAFT CUSHION BUTTERFLY\n",
      "GREY FLORAL FELTCRAFT SHOULDER BAG\n",
      "FELTCRAFT CUSHION RABBIT\n",
      "PINK BLUE FELT CRAFT TRINKET BOX\n"
     ]
    }
   ],
   "source": [
    "#Recommendation for pattern 4(user with item from rule 4)\n",
    "user_data = data_test[data_test['CustomerID'] == 12509]\n",
    "user_cart = list(user_data['Itemname'].apply(lambda x: (x, 1)).values)\n",
    "recommendations = rs1.recommend(user_cart)\n",
    "for item in recommendations:\n",
    "    print(item)\n",
    "print(\"-----------------\")\n",
    "user_data = data_test[data_test['CustomerID'] == 15241]\n",
    "user_cart = list(user_data['Itemname'].apply(lambda x: (x, 1)).values)\n",
    "recommendations = rs1.recommend(user_cart)\n",
    "for item in recommendations:\n",
    "    print(item)"
   ]
  },
  {
   "cell_type": "code",
   "execution_count": 14,
   "metadata": {},
   "outputs": [
    {
     "name": "stdout",
     "output_type": "stream",
     "text": [
      "72 SWEETHEART FAIRY CAKE CASES\n",
      "HEART OF WICKER SMALL\n",
      "REX CASH+CARRY JUMBO SHOPPER\n",
      "10 COLOUR SPACEBOY PEN\n",
      "12 DAISY PEGS IN WOOD BOX\n",
      "12 EGG HOUSE PAINTED WOOD\n",
      "12 IVORY ROSE PEG PLACE SETTINGS\n",
      "12 MESSAGE CARDS WITH ENVELOPES\n",
      "12 PENCIL SMALL TUBE WOODLAND\n",
      "12 PENCILS SMALL TUBE RED RETROSPOT\n",
      "-----------------\n",
      "DOORMAT RED RETROSPOT\n",
      "HEART OF WICKER LARGE\n",
      "RECIPE BOX PANTRY YELLOW DESIGN\n",
      "REGENCY CAKESTAND 3 TIER\n",
      "SET OF 3 CAKE TINS PANTRY DESIGN\n",
      "REX CASH+CARRY JUMBO SHOPPER\n",
      "HEART OF WICKER SMALL\n",
      "PARTY BUNTING\n",
      "PINK HEART SHAPE EGG FRYING PAN\n",
      "HOME BUILDING BLOCK WORD\n"
     ]
    }
   ],
   "source": [
    "#Recommendation for pattern 5(user with item from rule 5)\n",
    "user_data = data_test[data_test['CustomerID'] == 17338]\n",
    "user_cart = list(user_data['Itemname'].apply(lambda x: (x, 1)).values)\n",
    "recommendations = rs1.recommend(user_cart)\n",
    "for item in recommendations:\n",
    "    print(item)\n",
    "print(\"-----------------\")\n",
    "user_data = data_test[data_test['CustomerID'] == 16907]\n",
    "user_cart = list(user_data['Itemname'].apply(lambda x: (x, 1)).values)\n",
    "recommendations = rs1.recommend(user_cart)\n",
    "for item in recommendations:\n",
    "    print(item)"
   ]
  },
  {
   "cell_type": "markdown",
   "metadata": {},
   "source": [
    "Trend study on the impact of the number of neighbors on the model"
   ]
  },
  {
   "cell_type": "markdown",
   "metadata": {},
   "source": [
    "We also study how the performance of the model computed with different numbers of neighbors changes in the performance of the model by varying the parameter number of neighbors. We use five parameters of 1, 3, 5, 7, and 9 to train the model, and the performance is shown in the figure below. It can be seen that using more neighbors to participate in similarity calculation within a certain range is beneficial to improving the performance of the recommendation system."
   ]
  },
  {
   "cell_type": "code",
   "execution_count": 3,
   "metadata": {},
   "outputs": [
    {
     "data": {
      "image/png": "[encoded data removed]",
      "text/plain": [
       "<Figure size 1000x600 with 1 Axes>"
      ]
     },
     "metadata": {},
     "output_type": "display_data"
    }
   ],
   "source": [
    "import matplotlib.pyplot as plt\n",
    "N = [1, 3, 5, 7, 9]\n",
    "avg_precision = [0.048, 0.051, 0.053, 0.054, 0.056]\n",
    "avg_recall = [0.035, 0.038, 0.039, 0.039, 0.043]\n",
    "avg_f1_score = [0.033, 0.036, 0.037, 0.037, 0.039]\n",
    "plt.figure(figsize=(10, 6))\n",
    "plt.plot(N, avg_precision, marker='o', label='Average Precision')\n",
    "plt.plot(N, avg_recall, marker='s', label='Average Recall')\n",
    "plt.plot(N, avg_f1_score, marker='^', label='Average F1-score')\n",
    "plt.xlabel('N')\n",
    "plt.ylabel('Score')\n",
    "plt.title('Performance Metrics vs. N')\n",
    "plt.xticks(N)\n",
    "plt.legend()\n",
    "plt.grid(True)\n",
    "plt.show()"
   ]
  },
  {
   "cell_type": "markdown",
   "metadata": {},
   "source": [
    "## References"
   ]
  },
  {
   "cell_type": "markdown",
   "metadata": {},
   "source": [
    "1.Workshop 5: Frequent Itemset Mining and Recommender Systems"
   ]
  },
  {
   "cell_type": "markdown",
   "metadata": {},
   "source": [
    "2.https://medium.com/@anilcogalan/fp-growth-algorithm-how-to-analyze-user-behavior-and-outrank-your-competitors-c39af08879db"
   ]
  }
 ],
 "metadata": {
  "kernelspec": {
   "display_name": "nlp",
   "language": "python",
   "name": "python3"
  },
  "language_info": {
   "codemirror_mode": {
    "name": "ipython",
    "version": 3
   },
   "file_extension": ".py",
   "mimetype": "text/x-python",
   "name": "python",
   "nbconvert_exporter": "python",
   "pygments_lexer": "ipython3",
   "version": "3.11.7"
  }
 },
 "nbformat": 4,
 "nbformat_minor": 2
}
